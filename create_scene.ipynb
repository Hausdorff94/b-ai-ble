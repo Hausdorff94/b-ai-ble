{
 "cells": [
  {
   "cell_type": "code",
   "execution_count": 1,
   "id": "296168bc-ec8f-4fa9-b430-7a64211ecbfe",
   "metadata": {},
   "outputs": [],
   "source": [
    "from PIL import Image, ImageDraw, ImageFont\n",
    "import textwrap\n",
    "from IPython import display\n",
    "from base64 import b64decode\n",
    "import base64\n",
    "import io\n",
    "import json\n",
    "import os\n",
    "import sys\n",
    "import numpy as np"
   ]
  },
  {
   "cell_type": "code",
   "execution_count": 2,
   "id": "c3bc1182-1a0a-4c40-94da-73173e6e14f5",
   "metadata": {},
   "outputs": [
    {
     "name": "stdout",
     "output_type": "stream",
     "text": [
      "Create new client\n",
      "  Using region: us-east-1\n",
      "boto3 Bedrock client successfully created!\n",
      "bedrock-runtime(https://bedrock-runtime.us-east-1.amazonaws.com)\n"
     ]
    }
   ],
   "source": [
    "from utils_br import bedrock, print_ww\n",
    "from utils.utils import (generate_ai_text)\n",
    "from scene import main\n",
    "\n",
    "\n",
    "os.environ[\"AWS_DEFAULT_REGION\"] = \"us-east-1\"\n",
    "# os.environ[\"AWS_PROFILE\"] = \"\"\n",
    "os.environ[\"BEDROCK_ASSUME_ROLE\"] = \"\"  # E.g. \"arn:aws:...\"\n",
    "\n",
    "bedrock_runtime = bedrock.get_bedrock_client(\n",
    "    assumed_role=os.environ.get(\"BEDROCK_ASSUME_ROLE\", None),\n",
    "    region=os.environ.get(\"AWS_DEFAULT_REGION\", None))"
   ]
  },
  {
   "cell_type": "code",
   "execution_count": null,
   "id": "244a9d00-df62-4779-bccf-0224a60d95f3",
   "metadata": {},
   "outputs": [
    {
     "name": "stdout",
     "output_type": "stream",
     "text": [
      "Create new client\n",
      "  Using region: us-east-1\n",
      "boto3 Bedrock client successfully created!\n",
      "bedrock-runtime(https://bedrock-runtime.us-east-1.amazonaws.com)\n"
     ]
    }
   ],
   "source": [
    "main()"
   ]
  },
  {
   "cell_type": "code",
   "execution_count": 3,
   "id": "07a54d48-4a3c-4be0-b704-3928b49a5b1e",
   "metadata": {},
   "outputs": [],
   "source": [
    "verse = f\"\"\"El trabajo de cada hombre será manifestó en ese día, porque será probado por fuego; y el fuego mismo dejará en claro la calidad del trabajo de cada hombre.\"\"\""
   ]
  },
  {
   "cell_type": "code",
   "execution_count": 27,
   "id": "e701f3e3-4d23-462b-ada5-799413a2e4e1",
   "metadata": {},
   "outputs": [],
   "source": [
    "customer_input = \"\"\"\n",
    "You're an expert translator from spanish to english\n",
    "\"\"\"\n",
    "prompt = f\"\"\"\n",
    "Without adding any content, simply translate the following verse\n",
    "[VERSE]\n",
    "{verse}\n",
    "[/VERSE]\n",
    "\n",
    "Your response is only the flag <translated> , for example:\n",
    "\n",
    "[EXAMPLE]\n",
    "- original: Mi nombre es Juan\n",
    "- <translated>: My name is John\n",
    "Response: My name is John\n",
    "\n",
    "- original: Buenos días\n",
    "- <translated>: Good morning\n",
    "Response: Good morning\n",
    "[/EXAMPLE]\n",
    "\"\"\"\n",
    "model_response, list_response = generate_ai_text(bedrock_runtime,customer_input, prompt, temperature=0)\n",
    "verse_en = model_response.split('[VERSE]')[-1][:-8].strip()"
   ]
  },
  {
   "cell_type": "code",
   "execution_count": 47,
   "id": "fbe7bfb7-f01c-490d-9bf8-b6dbdc750125",
   "metadata": {},
   "outputs": [
    {
     "data": {
      "text/plain": [
       "'A master is giving three of his servants a talent each, before going on a long journey. To one he gives five talents, to another two, and to the third, one. The servants are expected to invest the talents while the master is away, and when he returns, they will be judged based on how they used their talents.\\n\\nOne servant invests the five talents he received and earns five more, bringing a total of ten talents back to the master. The second servant invests the two talents he received and earns two more, bringing a total of four talents back to the master. The third servant, however, buries the one talent he received and returns it to the master unused, fearful of losing it.\\n\\nThe master is pleased with the first two servants and praises them for their good work. But he is angry with the third servant for not taking any risks and not using his talent to earn more. He takes the one talent away from the third servant and gives it to the servant who earned ten talents, as a reward for his hard work and faith.\\n\\nThe scene ends with the master saying, \"Well done, good and faithful servant. You have been faithful with a few things, I will put you in charge of many things. Enter into the joy of your master.\" (Matthew 25:21)\\n\\nIn this scene, the master represents God, and the servants represent believers. The talents represent the gifts and abilities given to each person by God. The scene teaches that we will be judged based on how we use the gifts and abilities given to us by God, and that we should take risks and use our talents to earn more for the kingdom of God. The fire that tests the quality of each man\\'s work represents the trials and challenges we face in life, and how we respond to them shows the quality of our faith.'"
      ]
     },
     "execution_count": 47,
     "metadata": {},
     "output_type": "execute_result"
    }
   ],
   "source": [
    "customer_input = \"\"\"\n",
    "You're an expert on the Christian Bible, with an unparalleled command of its intricate narratives, deep symbolism and theological nuance,\n",
    "Through your expertise, you breathe life into ancient stories\n",
    "\"\"\"\n",
    "prompt = f\"\"\"\n",
    "Describe one scene for the following verse:\n",
    "[VERSE]\n",
    "{verse_en}\n",
    "[/VERSE]\n",
    "\n",
    "Follow the examples to write the scene using the above verse.\n",
    "\n",
    "[EXAMPLES]\n",
    "\n",
    "[VERSE]\n",
    "David and Goliat\n",
    "[/VERSE]\n",
    "- <SCENE>: David killed to Goliat. He's stand up on the desert, all trops are screaming.\n",
    "- Response: David killed to Goliat. He's stand up on the desert, all trops are screaming.\n",
    "\n",
    "[VERSE]\n",
    "Moises in Egypt\n",
    "[/VERSE]\n",
    "- <SCENE>: Moises is walking around the city. He's looking for his brother\n",
    "- Response: Moises is walking around the city. He's looking for his brother\n",
    "[/EXAMPLES]\n",
    "\"\"\"\n",
    "model_response_, list_response_ = generate_ai_text(bedrock_runtime,customer_input, prompt, temperature=0.8)\n",
    "model_response_.split('<SCENE>:')[-1].strip()"
   ]
  },
  {
   "cell_type": "code",
   "execution_count": 50,
   "id": "63b8c569-c036-42f5-b503-36772662db1a",
   "metadata": {},
   "outputs": [
    {
     "data": {
      "text/plain": [
       "1"
      ]
     },
     "execution_count": 50,
     "metadata": {},
     "output_type": "execute_result"
    }
   ],
   "source": [
    "len(model_response_.split('Johny'))"
   ]
  },
  {
   "cell_type": "code",
   "execution_count": null,
   "id": "ac916f62-ee21-46e1-81e8-1e9b64d795e7",
   "metadata": {},
   "outputs": [],
   "source": []
  }
 ],
 "metadata": {
  "kernelspec": {
   "display_name": "Python 3 (ipykernel)",
   "language": "python",
   "name": "python3"
  },
  "language_info": {
   "codemirror_mode": {
    "name": "ipython",
    "version": 3
   },
   "file_extension": ".py",
   "mimetype": "text/x-python",
   "name": "python",
   "nbconvert_exporter": "python",
   "pygments_lexer": "ipython3",
   "version": "3.10.13"
  }
 },
 "nbformat": 4,
 "nbformat_minor": 5
}
