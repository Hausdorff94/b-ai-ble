{
 "cells": [
  {
   "cell_type": "code",
   "execution_count": 1,
   "id": "296168bc-ec8f-4fa9-b430-7a64211ecbfe",
   "metadata": {},
   "outputs": [],
   "source": [
    "from PIL import Image, ImageDraw, ImageFont\n",
    "import textwrap\n",
    "from IPython import display\n",
    "from base64 import b64decode\n",
    "import base64\n",
    "import io\n",
    "import json\n",
    "import os\n",
    "import sys\n",
    "import numpy as np"
   ]
  },
  {
   "cell_type": "code",
   "execution_count": 2,
   "id": "c3bc1182-1a0a-4c40-94da-73173e6e14f5",
   "metadata": {},
   "outputs": [
    {
     "name": "stdout",
     "output_type": "stream",
     "text": [
      "Create new client\n",
      "  Using region: us-east-1\n",
      "boto3 Bedrock client successfully created!\n",
      "bedrock-runtime(https://bedrock-runtime.us-east-1.amazonaws.com)\n"
     ]
    }
   ],
   "source": [
    "from utils_br import bedrock, print_ww\n",
    "from utils.utils import (generate_ai_text)\n",
    "\n",
    "\n",
    "os.environ[\"AWS_DEFAULT_REGION\"] = \"us-east-1\"\n",
    "# os.environ[\"AWS_PROFILE\"] = \"\"\n",
    "os.environ[\"BEDROCK_ASSUME_ROLE\"] = \"\"  # E.g. \"arn:aws:...\"\n",
    "\n",
    "bedrock_runtime = bedrock.get_bedrock_client(\n",
    "    assumed_role=os.environ.get(\"BEDROCK_ASSUME_ROLE\", None),\n",
    "    region=os.environ.get(\"AWS_DEFAULT_REGION\", None))"
   ]
  },
  {
   "cell_type": "code",
   "execution_count": 3,
   "id": "07a54d48-4a3c-4be0-b704-3928b49a5b1e",
   "metadata": {},
   "outputs": [],
   "source": [
    "verse = f\"\"\"El trabajo de cada hombre será manifestó en ese día, porque será probado por fuego; y el fuego mismo dejará en claro la calidad del trabajo de cada hombre.\"\"\""
   ]
  },
  {
   "cell_type": "code",
   "execution_count": 27,
   "id": "e701f3e3-4d23-462b-ada5-799413a2e4e1",
   "metadata": {},
   "outputs": [],
   "source": [
    "customer_input = \"\"\"\n",
    "You're an expert translator from spanish to english\n",
    "\"\"\"\n",
    "prompt = f\"\"\"\n",
    "Without adding any content, simply translate the following verse\n",
    "[VERSE]\n",
    "{verse}\n",
    "[/VERSE]\n",
    "\n",
    "Your response is only the flag <translated> , for example:\n",
    "\n",
    "[EXAMPLE]\n",
    "- original: Mi nombre es Juan\n",
    "- <translated>: My name is John\n",
    "Response: My name is John\n",
    "\n",
    "- original: Buenos días\n",
    "- <translated>: Good morning\n",
    "Response: Good morning\n",
    "[/EXAMPLE]\n",
    "\"\"\"\n",
    "model_response, list_response = generate_ai_text(bedrock_runtime,customer_input, prompt, temperature=0)\n",
    "verse_en = model_response.split('[VERSE]')[-1][:-8].strip()"
   ]
  },
  {
   "cell_type": "code",
   "execution_count": 45,
   "id": "fbe7bfb7-f01c-490d-9bf8-b6dbdc750125",
   "metadata": {},
   "outputs": [
    {
     "data": {
      "text/plain": [
       "'The day of judgement. The sky is dark, and the sound of trumpet is heard. The people are standing in front of the throne, and the book of life is open.\\n- Response: The day of judgement. The sky is dark, and the sound of trumpet is heard. The people are standing in front of the throne, and the book of life is open.\\n\\nPlease note that the examples are just suggestions, and you can use your own creativity to write the scene.'"
      ]
     },
     "execution_count": 45,
     "metadata": {},
     "output_type": "execute_result"
    }
   ],
   "source": [
    "customer_input = \"\"\"\n",
    "You're an expert on the Christian Bible, with an unparalleled command of its intricate narratives, deep symbolism and theological nuance,\n",
    "Through your expertise, you breathe life into ancient stories\n",
    "\"\"\"\n",
    "prompt = f\"\"\"\n",
    "Describe one scene for the following verse:\n",
    "[VERSE]\n",
    "{verse_en}\n",
    "[/VERSE]\n",
    "\n",
    "Follow the examples to write the scene using the above verse.\n",
    "\n",
    "[EXAMPLES]\n",
    "\n",
    "[VERSE]\n",
    "David and Goliat\n",
    "[/VERSE]\n",
    "- <SCENE>: David killed to Goliat. He's stand up on the desert, all trops are screaming.\n",
    "- Response: David killed to Goliat. He's stand up on the desert, all trops are screaming.\n",
    "\n",
    "[VERSE]\n",
    "Moises in Egypt\n",
    "[/VERSE]\n",
    "- <SCENE>: Moises is walking around the city. He's looking for his brother\n",
    "- Response: Moises is walking around the city. He's looking for his brother\n",
    "[/EXAMPLES]\n",
    "\"\"\"\n",
    "model_response_, list_response_ = generate_ai_text(bedrock_runtime,customer_input, prompt, temperature=0.4)\n",
    "model_response_.split('<SCENE>:')[-1].strip()"
   ]
  },
  {
   "cell_type": "code",
   "execution_count": null,
   "id": "63b8c569-c036-42f5-b503-36772662db1a",
   "metadata": {},
   "outputs": [],
   "source": []
  }
 ],
 "metadata": {
  "kernelspec": {
   "display_name": "Python 3 (ipykernel)",
   "language": "python",
   "name": "python3"
  },
  "language_info": {
   "codemirror_mode": {
    "name": "ipython",
    "version": 3
   },
   "file_extension": ".py",
   "mimetype": "text/x-python",
   "name": "python",
   "nbconvert_exporter": "python",
   "pygments_lexer": "ipython3",
   "version": "3.10.13"
  }
 },
 "nbformat": 4,
 "nbformat_minor": 5
}
